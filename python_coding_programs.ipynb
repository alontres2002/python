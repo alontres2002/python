{
  "nbformat": 4,
  "nbformat_minor": 0,
  "metadata": {
    "colab": {
      "provenance": [],
      "authorship_tag": "ABX9TyObeFbDWjg2BDPB1982pAUb",
      "include_colab_link": true
    },
    "kernelspec": {
      "name": "python3",
      "display_name": "Python 3"
    },
    "language_info": {
      "name": "python"
    }
  },
  "cells": [
    {
      "cell_type": "markdown",
      "metadata": {
        "id": "view-in-github",
        "colab_type": "text"
      },
      "source": [
        "<a href=\"https://colab.research.google.com/github/alona123tres/python/blob/main/python_coding_programs.ipynb\" target=\"_parent\"><img src=\"https://colab.research.google.com/assets/colab-badge.svg\" alt=\"Open In Colab\"/></a>"
      ]
    },
    {
      "cell_type": "code",
      "execution_count": null,
      "metadata": {
        "colab": {
          "base_uri": "https://localhost:8080/"
        },
        "id": "AefuUxbFTHOR",
        "outputId": "3b1867ee-1dc0-45bd-ed18-b9ae45ae7ad2"
      },
      "outputs": [
        {
          "output_type": "stream",
          "name": "stdout",
          "text": [
            "Enter the string in the format[A7B2D1]:3c5v6g\n",
            "cgv356\n"
          ]
        }
      ],
      "source": [
        "#python program to sort characters and numbers so that first alphabets and then numbers are printed\n",
        "#input:A7B2D1\n",
        "#output:ABD721\n",
        "str1=input(\"Enter the string in the format[A7B2D1]:\")\n",
        "alphabets=[]\n",
        "numbers=[]\n",
        "for ch in str1:\n",
        "  if ch.isalpha():\n",
        "    alphabets.append(ch)\n",
        "  else:\n",
        "    numbers.append(ch)\n",
        "\n",
        "final_list=sorted(alphabets)+sorted(numbers)\n",
        "\n",
        "output=''.join(final_list)\n",
        "print(output)\n"
      ]
    },
    {
      "cell_type": "code",
      "source": [
        "#PROGRAM TO FINDING THE PAIR OF HIDGHEST PRODUCT\n",
        "#input:[5,3,1,4,3,7,6,9,2]\n",
        "#output=(7,9)\n",
        "def max_product(arr):\n",
        "  a_len=len(arr)\n",
        "  if a_len<2:\n",
        "    print(\"no such pair exist\")\n",
        "    return\n",
        "  a=arr[0]\n",
        "  b=arr[1]\n",
        "  for i in range(0,len(arr)):\n",
        "    for j in range(i+1,len(arr)):\n",
        "      if (arr[i]*arr[j])>(a*b):\n",
        "        a=arr[i]\n",
        "        b=arr[j]\n",
        "  return a,b\n",
        "arr=eval(input(\"enter array\"))\n",
        "print(\"max product pair \",max_product(arr))"
      ],
      "metadata": {
        "colab": {
          "base_uri": "https://localhost:8080/"
        },
        "id": "t3a6NQKPmdvY",
        "outputId": "2dd5dae1-0b7f-4d64-9cc2-e8e5dddf0552"
      },
      "execution_count": 7,
      "outputs": [
        {
          "output_type": "stream",
          "name": "stdout",
          "text": [
            "enter array5,3,1,4,3,7,6,9,2\n",
            "max product pair  (7, 9)\n"
          ]
        }
      ]
    },
    {
      "cell_type": "code",
      "source": [
        "#program to display the words that are repeated more than or equal to N times in the text\n",
        "str1=input(\"enter a string\")\n",
        "n=int(input(\"enter a count:\"))\n",
        "str1=str1.split\n",
        "counts=dict()\n",
        "for word in counts:\n",
        "  if word in counts:\n",
        "    counts[word]+=1\n",
        "  else:\n",
        "    counts[word]=1\n",
        "word_list=[]\n",
        "for key in counts:\n",
        "  if counts[key]>=n:\n",
        "    word_list.append(key)\n",
        "if len(word_list)>0:\n",
        "  print(word_list)\n",
        "else:\n",
        "  print(\"NA\")"
      ],
      "metadata": {
        "colab": {
          "base_uri": "https://localhost:8080/"
        },
        "id": "rnzz_SxbWXt8",
        "outputId": "88950455-d457-4cbc-d6f5-896536b553ca"
      },
      "execution_count": null,
      "outputs": [
        {
          "output_type": "stream",
          "name": "stdout",
          "text": [
            "enter a string MAN MAN MAN MAN\n",
            "enter a count:4\n",
            "NA\n"
          ]
        }
      ]
    }
  ]
}